{
 "cells": [
  {
   "cell_type": "markdown",
   "id": "98851223",
   "metadata": {},
   "source": [
    "### Pandas\n",
    "#### **Importando Pandas**"
   ]
  },
  {
   "cell_type": "code",
   "execution_count": 3,
   "id": "5d0a4dd0",
   "metadata": {},
   "outputs": [],
   "source": [
    "import pandas as pd"
   ]
  },
  {
   "cell_type": "code",
   "execution_count": 15,
   "id": "bd4e38c3",
   "metadata": {},
   "outputs": [
    {
     "name": "stdout",
     "output_type": "stream",
     "text": [
      "<class 'pandas.core.frame.DataFrame'>\n",
      "RangeIndex: 25121 entries, 0 to 25120\n",
      "Data columns (total 9 columns):\n",
      " #   Column        Non-Null Count  Dtype  \n",
      "---  ------        --------------  -----  \n",
      " 0   Tipo          25121 non-null  object \n",
      " 1   Colonia       25121 non-null  object \n",
      " 2   Habitaciones  25121 non-null  int64  \n",
      " 3   Garages       25121 non-null  int64  \n",
      " 4   Suites        25121 non-null  int64  \n",
      " 5   Area          25121 non-null  int64  \n",
      " 6   Valor         25107 non-null  float64\n",
      " 7   Condominio    22495 non-null  float64\n",
      " 8   Impuesto      18037 non-null  float64\n",
      "dtypes: float64(3), int64(4), object(2)\n",
      "memory usage: 1.7+ MB\n"
     ]
    },
    {
     "data": {
      "text/plain": [
       "pandas.core.frame.DataFrame"
      ]
     },
     "execution_count": 15,
     "metadata": {},
     "output_type": "execute_result"
    }
   ],
   "source": [
    "alquiler = r\"alquiler.csv\"\n",
    "data = pd.read_csv(alquiler,encoding=\"utf-8\",sep=\";\")\n",
    "data.head(10)\n",
    "data.tail(10)\n",
    "data.sample(10)\n",
    "data.info()\n",
    "type(data)"
   ]
  },
  {
   "cell_type": "markdown",
   "id": "c3f5ec95",
   "metadata": {},
   "source": [
    "### Exploracion Inicial de los datos\n",
    "#### *conociendo las filas y columnas del DataFrame con shape*"
   ]
  },
  {
   "cell_type": "code",
   "execution_count": 16,
   "id": "79b90d61",
   "metadata": {},
   "outputs": [
    {
     "data": {
      "text/plain": [
       "(25121, 9)"
      ]
     },
     "execution_count": 16,
     "metadata": {},
     "output_type": "execute_result"
    }
   ],
   "source": [
    "data.shape"
   ]
  },
  {
   "cell_type": "code",
   "execution_count": 17,
   "id": "26ad29fa",
   "metadata": {},
   "outputs": [
    {
     "data": {
      "text/plain": [
       "Index(['Tipo', 'Colonia', 'Habitaciones', 'Garages', 'Suites', 'Area', 'Valor',\n",
       "       'Condominio', 'Impuesto'],\n",
       "      dtype='object')"
      ]
     },
     "execution_count": 17,
     "metadata": {},
     "output_type": "execute_result"
    }
   ],
   "source": [
    "data.columns"
   ]
  },
  {
   "cell_type": "code",
   "execution_count": 19,
   "id": "b1d27228",
   "metadata": {},
   "outputs": [
    {
     "name": "stdout",
     "output_type": "stream",
     "text": [
      "<class 'pandas.core.frame.DataFrame'>\n",
      "RangeIndex: 25121 entries, 0 to 25120\n",
      "Data columns (total 9 columns):\n",
      " #   Column        Non-Null Count  Dtype  \n",
      "---  ------        --------------  -----  \n",
      " 0   Tipo          25121 non-null  object \n",
      " 1   Colonia       25121 non-null  object \n",
      " 2   Habitaciones  25121 non-null  int64  \n",
      " 3   Garages       25121 non-null  int64  \n",
      " 4   Suites        25121 non-null  int64  \n",
      " 5   Area          25121 non-null  int64  \n",
      " 6   Valor         25107 non-null  float64\n",
      " 7   Condominio    22495 non-null  float64\n",
      " 8   Impuesto      18037 non-null  float64\n",
      "dtypes: float64(3), int64(4), object(2)\n",
      "memory usage: 1.7+ MB\n"
     ]
    }
   ],
   "source": [
    "data.info()"
   ]
  },
  {
   "cell_type": "code",
   "execution_count": 23,
   "id": "9cf3c90e",
   "metadata": {},
   "outputs": [
    {
     "data": {
      "text/html": [
       "<div>\n",
       "<style scoped>\n",
       "    .dataframe tbody tr th:only-of-type {\n",
       "        vertical-align: middle;\n",
       "    }\n",
       "\n",
       "    .dataframe tbody tr th {\n",
       "        vertical-align: top;\n",
       "    }\n",
       "\n",
       "    .dataframe thead th {\n",
       "        text-align: right;\n",
       "    }\n",
       "</style>\n",
       "<table border=\"1\" class=\"dataframe\">\n",
       "  <thead>\n",
       "    <tr style=\"text-align: right;\">\n",
       "      <th></th>\n",
       "      <th>Valor</th>\n",
       "      <th>Habitaciones</th>\n",
       "    </tr>\n",
       "  </thead>\n",
       "  <tbody>\n",
       "    <tr>\n",
       "      <th>0</th>\n",
       "      <td>5950.0</td>\n",
       "      <td>1</td>\n",
       "    </tr>\n",
       "    <tr>\n",
       "      <th>1</th>\n",
       "      <td>24500.0</td>\n",
       "      <td>2</td>\n",
       "    </tr>\n",
       "    <tr>\n",
       "      <th>2</th>\n",
       "      <td>18200.0</td>\n",
       "      <td>0</td>\n",
       "    </tr>\n",
       "    <tr>\n",
       "      <th>3</th>\n",
       "      <td>2800.0</td>\n",
       "      <td>1</td>\n",
       "    </tr>\n",
       "    <tr>\n",
       "      <th>4</th>\n",
       "      <td>2800.0</td>\n",
       "      <td>1</td>\n",
       "    </tr>\n",
       "    <tr>\n",
       "      <th>...</th>\n",
       "      <td>...</td>\n",
       "      <td>...</td>\n",
       "    </tr>\n",
       "    <tr>\n",
       "      <th>25116</th>\n",
       "      <td>49000.0</td>\n",
       "      <td>0</td>\n",
       "    </tr>\n",
       "    <tr>\n",
       "      <th>25117</th>\n",
       "      <td>2800.0</td>\n",
       "      <td>0</td>\n",
       "    </tr>\n",
       "    <tr>\n",
       "      <th>25118</th>\n",
       "      <td>4900.0</td>\n",
       "      <td>2</td>\n",
       "    </tr>\n",
       "    <tr>\n",
       "      <th>25119</th>\n",
       "      <td>10500.0</td>\n",
       "      <td>2</td>\n",
       "    </tr>\n",
       "    <tr>\n",
       "      <th>25120</th>\n",
       "      <td>22750.0</td>\n",
       "      <td>0</td>\n",
       "    </tr>\n",
       "  </tbody>\n",
       "</table>\n",
       "<p>25121 rows × 2 columns</p>\n",
       "</div>"
      ],
      "text/plain": [
       "         Valor  Habitaciones\n",
       "0       5950.0             1\n",
       "1      24500.0             2\n",
       "2      18200.0             0\n",
       "3       2800.0             1\n",
       "4       2800.0             1\n",
       "...        ...           ...\n",
       "25116  49000.0             0\n",
       "25117   2800.0             0\n",
       "25118   4900.0             2\n",
       "25119  10500.0             2\n",
       "25120  22750.0             0\n",
       "\n",
       "[25121 rows x 2 columns]"
      ]
     },
     "execution_count": 23,
     "metadata": {},
     "output_type": "execute_result"
    }
   ],
   "source": [
    "data[[\"Valor\", \"Habitaciones\"]]"
   ]
  }
 ],
 "metadata": {
  "kernelspec": {
   "display_name": "mi_entorno",
   "language": "python",
   "name": "python3"
  },
  "language_info": {
   "codemirror_mode": {
    "name": "ipython",
    "version": 3
   },
   "file_extension": ".py",
   "mimetype": "text/x-python",
   "name": "python",
   "nbconvert_exporter": "python",
   "pygments_lexer": "ipython3",
   "version": "3.12.12"
  }
 },
 "nbformat": 4,
 "nbformat_minor": 5
}
