{
 "cells": [
  {
   "cell_type": "code",
   "execution_count": 14,
   "id": "f483bb2d",
   "metadata": {},
   "outputs": [
    {
     "name": "stdout",
     "output_type": "stream",
     "text": [
      "    Nombre  Edad  Nota Aprobado\n",
      "0  Alberto    20   7.5     True\n",
      "1      Ana    18   NaN    False\n",
      "2   Camila    27   2.5    False\n",
      "3    David    18   5.0    False\n",
      "4    Brian    21  10.0     True\n",
      "5    Bruna    23   NaN    False\n",
      "6  Daniela    21   7.0     True\n",
      "    Nombre  Edad  Nota   Aprobado\n",
      "13  Miriam    25   9.0       True\n",
      "14   Pablo    37   NaN      False\n",
      "15  Milena    29   7.0       True\n",
      "16   Lucas    33   NaN      False\n",
      "17   Nadia    34   8.0  Verdadero\n",
      "(18, 4)\n"
     ]
    },
    {
     "data": {
      "text/plain": [
       "Nombre       object\n",
       "Edad          int64\n",
       "Nota        float64\n",
       "Aprobado     object\n",
       "dtype: object"
      ]
     },
     "execution_count": 14,
     "metadata": {},
     "output_type": "execute_result"
    }
   ],
   "source": [
    "import pandas as pd\n",
    "alumnos = \"alumnos.csv\"\n",
    "data = pd.read_csv(alumnos,encoding=\"utf-8\",sep=\",\")\n",
    "print(data.head(7))\n",
    "print(data.tail(5))\n",
    "print(data.shape)\n",
    "data.columns\n",
    "data[\"Nombre\"]\n",
    "data[[\"Nota\",\"Aprobado\"]]\n",
    "data.dtypes\n",
    "#data.describe()"
   ]
  }
 ],
 "metadata": {
  "kernelspec": {
   "display_name": "mi_entorno",
   "language": "python",
   "name": "python3"
  },
  "language_info": {
   "codemirror_mode": {
    "name": "ipython",
    "version": 3
   },
   "file_extension": ".py",
   "mimetype": "text/x-python",
   "name": "python",
   "nbconvert_exporter": "python",
   "pygments_lexer": "ipython3",
   "version": "3.12.12"
  }
 },
 "nbformat": 4,
 "nbformat_minor": 5
}
