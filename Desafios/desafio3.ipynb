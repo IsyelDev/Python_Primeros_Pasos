{
 "cells": [
  {
   "cell_type": "markdown",
   "id": "7cc0ec67",
   "metadata": {},
   "source": [
    "1 - Escribe un programa que pida a la persona usuaria que proporcione dos números y muestre el número más grande."
   ]
  },
  {
   "cell_type": "code",
   "execution_count": null,
   "id": "356758ef",
   "metadata": {},
   "outputs": [
    {
     "name": "stdout",
     "output_type": "stream",
     "text": [
      "El número más grande es 16\n"
     ]
    }
   ],
   "source": [
    "data =[input(\"Ingrese un número: \") for _ in range(2)]\n",
    "n1,n2 = data\n",
    "print(f\"El número más grande es {max(n1,n2)}\")"
   ]
  },
  {
   "cell_type": "markdown",
   "id": "bc2e24cd",
   "metadata": {},
   "source": [
    "2 - Escribe un programa que solicite el porcentaje de crecimiento de producción de una empresa e informe si hubo un crecimiento (porcentaje positivo) o una disminución (porcentaje negativo)."
   ]
  },
  {
   "cell_type": "code",
   "execution_count": 5,
   "id": "8152d524",
   "metadata": {},
   "outputs": [
    {
     "name": "stdout",
     "output_type": "stream",
     "text": [
      "El crecimiento de producción es negativo\n"
     ]
    }
   ],
   "source": [
    "crecimiento = float(input(\"Ingrese el porcentaje de crecimiento de producción: \"))\n",
    "resultado = \"negativo\" if crecimiento<0 else \"positivo\"\n",
    "print(f\"El crecimiento de producción es {resultado}\")"
   ]
  },
  {
   "cell_type": "markdown",
   "id": "1f3ba4c6",
   "metadata": {},
   "source": [
    "3. Escribe un programa que determine si una letra proporcionada por la persona usuaria es una vocal o una consonante."
   ]
  },
  {
   "cell_type": "code",
   "execution_count": 6,
   "id": "34740d2e",
   "metadata": {},
   "outputs": [
    {
     "name": "stdout",
     "output_type": "stream",
     "text": [
      "No es vocal\n"
     ]
    }
   ],
   "source": [
    "vocal = ['a', 'e', 'i', 'o', 'u']\n",
    "letra = input(\"Ingrese una letra: \")\n",
    "resultado = \"Es vocal\" if letra in vocal else \"No es vocal\"\n",
    "print(resultado)"
   ]
  },
  {
   "cell_type": "markdown",
   "id": "89c3305e",
   "metadata": {},
   "source": [
    "4 - Escribe un programa que lea valores promedio de precios de un modelo de automóvil durante 3 años consecutivos y muestre el valor más alto y más bajo entre esos tres años."
   ]
  },
  {
   "cell_type": "code",
   "execution_count": null,
   "id": "6a1e0b3e",
   "metadata": {},
   "outputs": [
    {
     "name": "stdout",
     "output_type": "stream",
     "text": [
      "El valor máximo de precios es de 6200.0\n",
      "El valor mínimo de precios es de 1500.0\n"
     ]
    }
   ],
   "source": [
    "valores_promedio = [float(input(\"Ingrese el valor promedio de precios para el año {}: \".format(i+1))) for i in range(3)]\n",
    "valormaximo = max(valores_promedio)\n",
    "print(f\"El valor máximo de precio es de {valormaximo}\")\n",
    "valorminimo = min(valores_promedio)\n",
    "print(f\"El valor mínimo de precio es de {valorminimo}\")\n"
   ]
  },
  {
   "cell_type": "markdown",
   "id": "3c22e169",
   "metadata": {},
   "source": [
    "5 - Escribe un programa que pregunte sobre el precio de tres productos e indique cuál es el producto más barato para comprar."
   ]
  },
  {
   "cell_type": "code",
   "execution_count": 18,
   "id": "520a9b20",
   "metadata": {},
   "outputs": [
    {
     "name": "stdout",
     "output_type": "stream",
     "text": [
      "[15.0, 10.0, 92.0]\n",
      "El producto más barato es de 10.0\n"
     ]
    }
   ],
   "source": [
    "precio_producto = [float(input(\"Ingrese el precio del producto\")) for i in range(3)]\n",
    "print(precio_producto)\n",
    "precio_barato = min(precio_producto)\n",
    "print(f\"El producto más barato es de {precio_barato}\")"
   ]
  },
  {
   "cell_type": "markdown",
   "id": "dffa9890",
   "metadata": {},
   "source": [
    "6 - Escribe un programa que lea tres números y los muestre en orden descendente."
   ]
  },
  {
   "cell_type": "code",
   "execution_count": 21,
   "id": "18135aed",
   "metadata": {},
   "outputs": [
    {
     "name": "stdout",
     "output_type": "stream",
     "text": [
      "[120, 15, 10]\n"
     ]
    }
   ],
   "source": [
    "numeros =[15,120,10]\n",
    "ordenar = sorted(numeros, reverse=True)\n",
    "print(ordenar)"
   ]
  },
  {
   "cell_type": "markdown",
   "id": "48783244",
   "metadata": {},
   "source": [
    "7 -Escribe un programa que pregunte en qué turno estudia la persona usuaria (\"mañana\", \"tarde\" o \"noche\") y muestre el mensaje \"¡Buenos Días!\", \"¡Buenas Tardes!\", \"¡Buenas Noches!\" o \"Valor Inválido!\", según el caso."
   ]
  },
  {
   "cell_type": "code",
   "execution_count": 25,
   "id": "95f587ef",
   "metadata": {},
   "outputs": [
    {
     "name": "stdout",
     "output_type": "stream",
     "text": [
      "Valor Inválido!\n"
     ]
    }
   ],
   "source": [
    "mensaje=\"noches\"\n",
    "greting =[\"mañana\", \"tarde\" , \"noche\"]\n",
    "resultado = \"Buenos dias\" if greting[0] == mensaje else \"Buenas tardes\" if greting[1] == mensaje else \"Buenas noches\" if greting[2] == mensaje else \"Valor Inválido!\"\n",
    "print(resultado)\n"
   ]
  },
  {
   "cell_type": "markdown",
   "id": "aa041c0a",
   "metadata": {},
   "source": [
    "8 - Escribe un programa que solicite un número entero a la persona usuaria y determine si es par o impar. Pista: Puedes usar el operador módulo (%).\n",
    "\n",
    "9 - Escribe un programa que pida un número a la persona usuaria y le informe si es entero o decimal."
   ]
  },
  {
   "cell_type": "code",
   "execution_count": 27,
   "id": "be361e63",
   "metadata": {},
   "outputs": [
    {
     "name": "stdout",
     "output_type": "stream",
     "text": [
      "numero impar\n",
      "numero entero\n"
     ]
    }
   ],
   "source": [
    "numero = 7\n",
    "result = \"numero par\" if numero % 2 == 0 else \"numero impar\"\n",
    "print(result)\n",
    "\n",
    "numerotipo = 15\n",
    "result = \"numero entero\" if isinstance(numerotipo, int) else \"numero decimal\"\n",
    "print(result)"
   ]
  },
  {
   "cell_type": "markdown",
   "id": "63100eb6",
   "metadata": {},
   "source": [
    "10 - Un programa debe ser escrito para leer dos números y luego preguntar a la persona usuaria qué operación desea realizar. El resultado de la operación debe incluir información sobre el número, si es par o impar, positivo o negativo, e entero o decimal."
   ]
  },
  {
   "cell_type": "code",
   "execution_count": null,
   "id": "76d880bc",
   "metadata": {},
   "outputs": [
    {
     "name": "stdout",
     "output_type": "stream",
     "text": [
      "El número 15 es impar y positivo y decimal\n",
      "El número 20 es par y positivo y decimal\n"
     ]
    }
   ],
   "source": [
    "from typing import Callable, List\n",
    "\n",
    "def obtener_numero(prompt: str) -> float:\n",
    "    \"\"\"Solicita un número al usuario y valida la entrada.\"\"\"\n",
    "    while True:\n",
    "        try:\n",
    "            return float(input(prompt))\n",
    "        except ValueError:\n",
    "            print(\"Error: Debes ingresar un número válido.\")\n",
    "\n",
    "def seleccionar_operacion() -> Callable[[float, float], float]:\n",
    "    \"\"\"Devuelve la función correspondiente a la operación deseada.\"\"\"\n",
    "    operaciones = {\n",
    "        '+': lambda a, b: a + b,\n",
    "        '-': lambda a, b: a - b,\n",
    "        '*': lambda a, b: a * b,\n",
    "        '/': lambda a, b: a / b if b != 0 else float('inf')  # Inf si división por cero\n",
    "    }\n",
    "    while True:\n",
    "        op = input(\"Ingrese la operación deseada (+, -, *, /): \")\n",
    "        if op in operaciones:\n",
    "            return operaciones[op]\n",
    "        print(\"Operación no válida. Intente nuevamente.\")\n",
    "\n",
    "def analizar_resultado(resultado: float) -> None:\n",
    "    \"\"\"Analiza y muestra características del resultado.\"\"\"\n",
    "    tipo = \"entero\" if resultado % 1 == 0 else \"decimal\"\n",
    "    signo = \"positivo\" if resultado > 0 else \"negativo\"\n",
    "    paridad = \"par\" if resultado % 2 == 0 else \"impar\"\n",
    "    print(f\"El resultado es {tipo}, {signo} y {paridad}.\")\n",
    "\n",
    "def main() -> None:\n",
    "    num1 = obtener_numero(\"Ingrese el primer número: \")\n",
    "    num2 = obtener_numero(\"Ingrese el segundo número: \")\n",
    "    operacion = seleccionar_operacion()\n",
    "\n",
    "    resultado = operacion(num1, num2)\n",
    "    print(f\"Resultado: {resultado}\")\n",
    "    analizar_resultado(resultado)\n",
    "\n",
    "if __name__ == \"__main__\":\n",
    "    main()\n",
    "\n"
   ]
  },
  {
   "cell_type": "markdown",
   "id": "c2fa9a14",
   "metadata": {},
   "source": [
    "13 - En una empresa de venta de bienes raíces, debes crear un código que analice los datos de ventas anuales para ayudar a la dirección en la toma de decisiones. El código debe recopilar los datos de cantidad de ventas durante los años 2022 y 2023 y calcular la variación porcentual. A partir del valor de la variación, se deben proporcionar las siguientes sugerencias:\n",
    "\n",
    "Para una variación superior al 20%: bonificación para el equipo de ventas.\n",
    "Para una variación entre el 2% y el 20%: pequeña bonificación para el equipo de ventas.\n",
    "Para una variación entre el 2% y el -10%: planificación de políticas de incentivo a las ventas.\n",
    "Para bonificaciones inferiores al -10%: recorte de gastos.\n",
    "Si necesitas ayuda, las opciones de solución para las actividades estarán disponibles en la sección \"Opinión del instructor\"."
   ]
  }
 ],
 "metadata": {
  "kernelspec": {
   "display_name": "base",
   "language": "python",
   "name": "python3"
  },
  "language_info": {
   "codemirror_mode": {
    "name": "ipython",
    "version": 3
   },
   "file_extension": ".py",
   "mimetype": "text/x-python",
   "name": "python",
   "nbconvert_exporter": "python",
   "pygments_lexer": "ipython3",
   "version": "3.12.7"
  }
 },
 "nbformat": 4,
 "nbformat_minor": 5
}
