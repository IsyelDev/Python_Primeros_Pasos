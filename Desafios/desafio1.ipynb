{
 "cells": [
  {
   "cell_type": "markdown",
   "id": "34546c6c",
   "metadata": {},
   "source": [
    "### 1. Imprime la frase \"Escuela de Datos de Alura\"."
   ]
  },
  {
   "cell_type": "markdown",
   "id": "af3f6f9e",
   "metadata": {},
   "source": [
    "### 2. Imprime tu nombre y tu apellido siguiendo esta estructura:\n",
    "\n",
    "- Nombre: [tu nombre]\n",
    "- Apellido: [tu apellido]"
   ]
  },
  {
   "cell_type": "markdown",
   "id": "fd80a86b",
   "metadata": {},
   "source": [
    "### 3 - Imprime tu primer nombre letra por letra. Por ejemplo, si mi nombre es Álvaro, la salida sería:\n",
    "- Á\n",
    "- l\n",
    "- v\n",
    "- a\n",
    "- r\n",
    "- o"
   ]
  },
  {
   "cell_type": "markdown",
   "id": "535962ba",
   "metadata": {},
   "source": [
    "4 - Imprime tu fecha de nacimiento en formato día mes año. Recuerda que los valores de día y año no deben estar entre comillas. Suponiendo una fecha de cumpleaños el 28 de febrero de 2003, el formato debe ser como el siguiente:\n",
    "- 28 febrero 2003"
   ]
  },
  {
   "cell_type": "markdown",
   "id": "c2f22487",
   "metadata": {},
   "source": [
    "5 - Imprime, en una sola instrucción print, el año actual en el que estás realizando este curso. El valor del año debe ser un dato numérico, y la salida de print debe ser la siguiente:\n",
    "- Año actual: [año]"
   ]
  },
  {
   "cell_type": "code",
   "execution_count": null,
   "id": "690db632",
   "metadata": {},
   "outputs": [
    {
     "name": "stdout",
     "output_type": "stream",
     "text": [
      "Escuela de Datos de Alura\n",
      "Nombre: [tu nombre] \n",
      "Apellido: [tu apellido]\n",
      "M\n",
      "a\n",
      "n\n",
      "u\n",
      "e\n",
      "l\n",
      "28 febrero 2003\n",
      "Año actual: 2025\n"
     ]
    }
   ],
   "source": [
    "from datetime import date\n",
    "\n",
    "def frase(msn: str) -> str:\n",
    "    \"\"\"Devuelve una frase.\"\"\"\n",
    "    return msn\n",
    "\n",
    "def imprimir(msn: str) -> None:\n",
    "    \"\"\"Imprime un mensaje en consola.\"\"\"\n",
    "    print(msn)\n",
    "\n",
    "def nombre_recorrido(nombre: str) -> None:\n",
    "    \"\"\"Imprime el nombre letra por letra.\"\"\"\n",
    "    for letra in nombre:\n",
    "        print(letra.upper())\n",
    "\n",
    "def fecha(dia: int, mes: str, año: int) -> str:\n",
    "    \"\"\"Devuelve la fecha formateada.\"\"\"\n",
    "    return f\"{dia} {mes} {año}\"\n",
    "\n",
    "def main() -> None:\n",
    "    \"\"\"Función principal del programa.\"\"\"\n",
    "    imprimir(frase(\"Escuela de Datos de Alura\"))\n",
    "    imprimir(frase(\"Nombre: Manuel\\nApellido: Pérez\"))\n",
    "    nombre_recorrido(\"Manuel\")\n",
    "    imprimir(fecha(28, \"febrero\", 2003))\n",
    "    imprimir(frase(f\"Año actual: {date.today().year}\"))\n",
    "\n",
    "if __name__ == \"__main__\":\n",
    "    main()\n"
   ]
  }
 ],
 "metadata": {
  "kernelspec": {
   "display_name": "base",
   "language": "python",
   "name": "python3"
  },
  "language_info": {
   "codemirror_mode": {
    "name": "ipython",
    "version": 3
   },
   "file_extension": ".py",
   "mimetype": "text/x-python",
   "name": "python",
   "nbconvert_exporter": "python",
   "pygments_lexer": "ipython3",
   "version": "3.12.7"
  }
 },
 "nbformat": 4,
 "nbformat_minor": 5
}
