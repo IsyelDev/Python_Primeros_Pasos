{
 "cells": [
  {
   "cell_type": "markdown",
   "id": "920cdd6d",
   "metadata": {},
   "source": [
    "Recopilación y muestra de datos\n",
    "\n",
    "1 - Crea un programa que solicite al usuario que escriba su nombre y luego imprima \"Hola, [nombre].\"\n",
    "\n",
    "2 - Crea un programa que solicite al usuario que escriba su nombre y edad, y luego imprima \"Hola, [nombre], tienes [edad] años.\"\n",
    "\n",
    "3 - Crea un programa que solicite al usuario que escriba su nombre, edad y altura en metros, y luego imprima \"Hola, [nombre], tienes [edad] años y mides [altura] metros.\"\n",
    "\n",
    "Calculadora con operadores\n",
    "\n",
    "4 - Crea un programa que solicite dos valores numéricos al usuario y luego imprima la suma de ambos valores.\n",
    "\n",
    "5 - Crea un programa que solicite tres valores numéricos al usuario y luego imprima la suma de los tres valores.\n",
    "\n",
    "6 - Crea un programa que solicite dos valores numéricos al usuario y luego imprima la resta del primero menos el segundo valor.\n",
    "\n",
    "7 - Crea un programa que solicite dos valores numéricos al usuario y luego imprima la multiplicación de los dos valores.\n",
    "\n",
    "8 - Crea un programa que solicite dos valores numéricos, un numerador y un denominador, y realice la división entre los dos valores. Asegúrate de que el valor del denominador no sea igual a 0.\n",
    "\n",
    "9 - Crea un programa que solicite dos valores numéricos, un operador y una potencia, y realice la exponenciación entre estos dos valores.\n",
    "\n",
    "10 - Crea un programa que solicite dos valores numéricos, un numerador y un denominador, y realice la división entera entre los dos valores. Asegúrate de que el valor del denominador no sea igual a 0.\n",
    "\n",
    "11 - Crea un programa que solicite dos valores numéricos, un numerador y un denominador, y devuelva el resto de la división entre los dos valores. Asegúrate de que el valor del denominador no sea igual a 0.\n",
    "\n",
    "12 - Crea un código que solicite las 3 notas de un estudiante e imprima el promedio de las notas.\n",
    "\n",
    "13 - Crea un código que calcule e imprima el promedio ponderado de los números 5, 12, 20 y 15 con pesos respectivamente iguales a 1, 2, 3 y 4.\n",
    "\n",
    "Editando textos\n",
    "\n",
    "14 - Crea una variable llamada \"frase\" y asígnale una cadena de texto de tu elección. Luego, imprime la frase en pantalla.\n",
    "\n",
    "15 - Crea un código que solicite una frase y luego imprima la frase en pantalla.\n",
    "\n",
    "16 - Crea un código que solicite una frase al usuario y luego imprima la misma frase ingresada pero en mayúsculas.\n",
    "\n",
    "17 - Crea un código que solicite una frase al usuario y luego imprima la misma frase ingresada pero en minúsculas.\n",
    "\n",
    "18 - Crea una variable llamada \"frase\" y asígnale una cadena de texto de tu elección. Luego, imprime la frase sin espacios en blanco al principio y al final.\n",
    "\n",
    "19 - Crea un código que solicite una frase al usuario y luego imprima la misma frase sin espacios en blanco al principio y al final.\n",
    "\n",
    "20 - Crea un código que solicite una frase al usuario y luego imprima la misma frase sin espacios en blanco al principio y al final, además de convertirla a minúsculas.\n",
    "\n",
    "21 - Crea un código que solicite una frase al usuario y luego imprima la misma frase con todas las vocales \"e\" reemplazadas por la letra \"f\".\n",
    "\n",
    "22 - Crea un código que solicite una frase al usuario y luego imprima la misma frase con todas las vocales \"a\" reemplazadas por el carácter \"@\".\n",
    "\n",
    "23 - Crea un código que solicite una frase al usuario y luego imprima la misma frase con todas las consonantes \"s\" reemplazadas por el carácter \"$\"."
   ]
  },
  {
   "cell_type": "code",
   "execution_count": null,
   "id": "768aae43",
   "metadata": {},
   "outputs": [],
   "source": [
    "def sendName()->str:\n",
    "    nombre = input(\"dime tu nombre: \")\n",
    "    #print(f\"Hola,{nombre}\")\n",
    "    return nombre\n",
    "\n",
    "def sendAge()->int:\n",
    "    #nombre = solicita()\n",
    "    edad = int(input(\"dime tu edad: \"))\n",
    "    #print(f\"Hola, {nombre} tienes {edad} años\")\n",
    "    return edad\n",
    "\n",
    "def sendHeigth()->int:\n",
    "    nombre = sendName()\n",
    "    edad = sendAge()\n",
    "    altura = float(input(\"dime tu altura: \"))\n",
    "    print(f\"Hola, {nombre}, tienes {edad} años y mides {altura} metros.\")\n",
    "    return nombre,edad,altura\n",
    "\n",
    "def sumar(rango:int) -> int:\n",
    "    \"\"\"\n",
    "    Solicita dos números al usuario y muestra su suma.\n",
    "    \"\"\"\n",
    "    try:\n",
    "        numeros = [int(input(f\"Ingrese el número {i + 1}: \")) for i in range(rango)]\n",
    "        suma = sum(numeros)\n",
    "        print(f\"La suma de los dos números es: {suma}\")\n",
    "    except ValueError:\n",
    "        print(\"Error: Debes ingresar solo números enteros.\")\n"
   ]
  },
  {
   "cell_type": "code",
   "execution_count": 52,
   "id": "7d356bda",
   "metadata": {},
   "outputs": [],
   "source": [
    "def resta(a: int, b: int) -> int:\n",
    "    \"\"\"\n",
    "    Resta dos números enteros y devuelve el resultado.\n",
    "    \"\"\"\n",
    "    restanumeros = a - b\n",
    "    return restanumeros"
   ]
  },
  {
   "cell_type": "code",
   "execution_count": 74,
   "id": "3d13d251",
   "metadata": {},
   "outputs": [],
   "source": [
    "from math import prod  # ✅ forma moderna para multiplicar varios números\n",
    "def multi(rango:int) -> int:\n",
    "    \"\"\"\n",
    "    Multiplica dos números enteros y devuelve el resultado.\n",
    "    \"\"\"\n",
    "    multiplicarnumeros = [float(input(\"Ingrese un número: \")) for _ in range(rango)]\n",
    "    multiplicar = prod(multiplicarnumeros)\n",
    "    print(multiplicar)\n",
    "    return multiplicar"
   ]
  },
  {
   "cell_type": "code",
   "execution_count": null,
   "id": "1b8317cc",
   "metadata": {},
   "outputs": [],
   "source": [
    "def exponente(base:float, exponente:int) -> float:\n",
    "    \"\"\"\n",
    "    Calcula la potencia de un número y devuelve el resultado.\n",
    "    \"\"\"\n",
    "    resultado = base ** exponente\n",
    "    print(resultado)\n",
    "    return resultado"
   ]
  },
  {
   "cell_type": "code",
   "execution_count": 77,
   "id": "8f42a51f",
   "metadata": {},
   "outputs": [
    {
     "name": "stdout",
     "output_type": "stream",
     "text": [
      "14.0\n"
     ]
    }
   ],
   "source": [
    "notas = [float(input(\"Ingrese una nota: \")) for _ in range(3)]\n",
    "promedio = sum(notas) / len(notas)\n",
    "print(promedio)"
   ]
  },
  {
   "cell_type": "code",
   "execution_count": 82,
   "id": "863aba90",
   "metadata": {},
   "outputs": [
    {
     "name": "stdout",
     "output_type": "stream",
     "text": [
      "14.9\n"
     ]
    }
   ],
   "source": [
    "notas = [\n",
    "    {\"nota\": 5, \"peso\": 1},\n",
    "    {\"nota\": 12, \"peso\": 2},\n",
    "    {\"nota\": 20, \"peso\": 3},\n",
    "    {\"nota\": 15, \"peso\": 4}\n",
    "]\n",
    "\n",
    "from math import fsum\n",
    "\n",
    "def promedio_ponderado(notas: list[dict]) -> float:\n",
    "    total_peso = fsum(n[\"peso\"] for n in notas)\n",
    "    promedio = fsum(n[\"nota\"] * n[\"peso\"] for n in notas) / total_peso\n",
    "    return round(promedio, 2)\n",
    "\n",
    "print(promedio_ponderado(notas))\n"
   ]
  },
  {
   "cell_type": "code",
   "execution_count": 83,
   "id": "87d0cf73",
   "metadata": {},
   "outputs": [],
   "source": [
    "def main():\n",
    "    #solicita()\n",
    "    # edades()\n",
    "    #sendHeigth()\n",
    "    promedio_ponderado(notas)\n",
    "\n"
   ]
  },
  {
   "cell_type": "code",
   "execution_count": 86,
   "id": "734b7bc1",
   "metadata": {},
   "outputs": [
    {
     "name": "stdout",
     "output_type": "stream",
     "text": [
      "fre$$$\n"
     ]
    }
   ],
   "source": [
    "frase = input('Escribe una frase: ')\n",
    "print(frase.lower().replace('s','$'))"
   ]
  },
  {
   "cell_type": "code",
   "execution_count": 84,
   "id": "55ca865e",
   "metadata": {},
   "outputs": [],
   "source": [
    "if __name__==\"__main__\":\n",
    "    main()"
   ]
  }
 ],
 "metadata": {
  "kernelspec": {
   "display_name": "base",
   "language": "python",
   "name": "python3"
  },
  "language_info": {
   "codemirror_mode": {
    "name": "ipython",
    "version": 3
   },
   "file_extension": ".py",
   "mimetype": "text/x-python",
   "name": "python",
   "nbconvert_exporter": "python",
   "pygments_lexer": "ipython3",
   "version": "3.12.7"
  }
 },
 "nbformat": 4,
 "nbformat_minor": 5
}
